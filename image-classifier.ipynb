{
 "cells": [
  {
   "cell_type": "code",
   "execution_count": null,
   "metadata": {},
   "outputs": [],
   "source": [
    "Chunyang Zhu"
  
   ]
  },
  {
   "cell_type": "code",
   "execution_count": 21,
   "metadata": {
    "colab": {
     "base_uri": "https://localhost:8080/",
     "height": 51
    },
    "colab_type": "code",
    "id": "6SD-AONjrguR",
    "outputId": "dd4c14b6-59ff-4b5f-adc7-4847ce81e632"
   },
   "outputs": [
    {
     "name": "stdout",
     "output_type": "stream",
     "text": [
      "Files already downloaded and verified\n",
      "Files already downloaded and verified\n",
      "10000\n"
     ]
    }
   ],
   "source": [
    "#download the CIFAR10 dataset for image classification.\n",
    "import torch, torchvision\n",
    "import numpy as np\n",
    "import random\n",
    "\n",
    "transform = torchvision.transforms.Compose( [torchvision.transforms.ToTensor(),torchvision.transforms.Normalize((0.5, 0.5, 0.5), (0.5, 0.5, 0.5))])\n",
    "\n",
    "trainset = torchvision.datasets.CIFAR10(root='./data', train=True,download=True, transform=transform)\n",
    "\n",
    "testset = torchvision.datasets.CIFAR10(root='./data', train=False,download=True, transform=transform)\n",
    "\n",
    "testdata = []\n",
    "for data in testset:\n",
    "    tmp = []\n",
    "    tmp.append(data[0].numpy().ravel())\n",
    "    tmp.append(data[1])\n",
    "    testdata.append(tmp)\n",
    "    \n",
    "test_X = [item[0].tolist() for item in testdata]\n",
    "\n",
    "print(len(testdata))\n",
    "#preprocess trainset.\n",
    "dataset = []\n",
    "#flat dataset\n",
    "for data in trainset:\n",
    "  tmp = []\n",
    "  tmp.append(data[0].numpy().ravel())\n",
    "  tmp.append(data[1])\n",
    "  dataset.append(tmp)\n",
    "\n",
    "\n",
    "random.shuffle(dataset)\n",
    "#separate features and label\n",
    "dataset_X = [item[0].tolist() for item in dataset]\n",
    "dataset_Y = [item[1] for item in dataset]\n",
    "\n",
    "#combined training sample:\n",
    "training_set = dataset[5000:]\n",
    "\n",
    "#split dataset into training set and validation set and format the dataset\n",
    "\n",
    "valiset_X = np.asarray(dataset_X[:5000])\n",
    "valiset_Y = dataset_Y[:5000]\n",
    "\n",
    "\n",
    "trainset_X = np.asarray(dataset_X[5000:]) #shape (num of training data, num of features)\n",
    "trainset_Y = dataset_Y[5000:]\n",
    "\n"
   ]
  },
  {
   "cell_type": "code",
   "execution_count": null,
   "metadata": {
    "colab": {
     "base_uri": "https://localhost:8080/",
     "height": 1292
    },
    "colab_type": "code",
    "id": "EtTKFOi5g1IJ",
    "outputId": "46dfbde1-3a15-424b-d35f-94c20a0a450b"
   },
   "outputs": [],
   "source": [
    "import matplotlib.pyplot as plt\n",
    "class NeuralNetwork:\n",
    "  \n",
    "  def __init__(self, layer_dimensions):\n",
    "    #initialize weights and bias\n",
    "    self.parameters = {}\n",
    "    self.cache = {}\n",
    "    self.num_layers = len(layer_dimensions) - 1\n",
    "    for l in range (1, self.num_layers + 1):\n",
    "      eps = np.sqrt(2.0 / (layer_dimensions[l] + layer_dimensions[l - 1]))\n",
    "      self.parameters[\"W\" + str(l)] = np.random.randn(layer_dimensions[l], layer_dimensions[l - 1]) * eps #shape (features, neurons)\n",
    "      self.parameters[\"b\" + str(l)] = np.zeros((layer_dimensions[l], 1)) + 0.01 #shape (1,n)\n",
    "  \n",
    "  def affineForward(self, A, W, b, layer):\n",
    "    forward = np.dot(W, A) + b\n",
    "    self.cache[\"Z\" + str(layer)] = forward\n",
    "    return forward\n",
    "    \n",
    "  def activationForward(self, A, layer):\n",
    "    # use relu function as activation function\n",
    "    A = np.maximum(0, A)\n",
    "    self.cache[\"A\" + str(layer)] = A\n",
    "    return A\n",
    "  \n",
    "  def _softmax(self, AL):\n",
    "    num_data = AL.shape[1]\n",
    "    result = np.zeros(AL.shape)\n",
    "    # matrix of 1s\n",
    "    for n in range(num_data):\n",
    "      curr = AL[:,n]\n",
    "      e_curr = np.exp(curr - np.max(curr))\n",
    "      result[:,n] = e_curr/np.sum(e_curr)\n",
    "    return result\n",
    "  \n",
    "  def costFunction(self, AL, y):\n",
    "    AL_softmax = self._softmax(AL)\n",
    "    # calculate cross entropy loss\n",
    "    n = len(y)\n",
    "    log_likelyhood = -np.log(AL_softmax[y, range(n)]++1e-9)\n",
    "    loss = np.sum(log_likelyhood) / n\n",
    "    return loss\n",
    "  \n",
    "  \n",
    "  def affineBackward(self, dL_dZ, layer, rate):\n",
    "    A = self.cache[\"A\" + str(layer - 1)]\n",
    "    dL_dW = np.dot(dL_dZ ,A.transpose())\n",
    "    W = self.parameters[\"W\" + str(layer)]\n",
    "    self.parameters[\"W\" + str(layer)] =  self.parameters[\"W\" + str(layer)] - rate * dL_dW\n",
    "    self.parameters[\"b\" + str(layer)] =  self.parameters[\"b\" + str(layer)] - rate * np.dot(dL_dZ, np.ones((dL_dZ.shape[1],1)))\n",
    "    return np.dot(W.transpose(), dL_dZ)\n",
    "     \n",
    "  \n",
    "  \n",
    "  def activationBackward(self, dL_dA, layer):\n",
    "    Z = self.cache[\"Z\" + str(layer - 1)]\n",
    "    Z[Z <= 0] = 0\n",
    "    Z[Z > 1] = 1\n",
    "    # multiplication\n",
    "    return dL_dA*Z\n",
    "    \n",
    "    \n",
    "    \n",
    "    \n",
    "  def backPropagation(self, y):\n",
    "    AL = self.cache[\"Z\" + str(self.num_layers)]\n",
    "    grad = self._softmax(AL)\n",
    "    n = len(y)\n",
    "    grad[y, range(n)] -= 1\n",
    "    grad = grad / n\n",
    "    return grad\n",
    "  \n",
    "  def forward(self, X_train):\n",
    "    self.cache[\"A0\"] = X_train\n",
    "    for layer in range(1, self.num_layers):\n",
    "      Z = self.affineForward(self.cache[\"A\"+ str(layer - 1)], self.parameters[\"W\" + str(layer)], self.parameters[\"b\" + str(layer)], layer)\n",
    "      A = self.activationForward(Z, layer)\n",
    "    Z = self.affineForward(self.cache[\"A\" + str(self.num_layers - 1)], self.parameters[\"W\" + str(self.num_layers)], self.parameters[\"b\" + str(self.num_layers)], self.num_layers)\n",
    "    return Z\n",
    "  \n",
    "  def predict(self, X_test):\n",
    "    Z = self.forward(X_test)\n",
    "    Z = self._softmax(Z)\n",
    "    Y_Pred = np.argmax(Z, axis=0)\n",
    "    return Y_Pred\n",
    "\n",
    "  def validate(self, valiset_X, valiset_Y):\n",
    "    Y_pred = self.predict(valiset_X)\n",
    "    correct = 0\n",
    "    for i in range(0, len(Y_pred)):\n",
    "      if (Y_pred[i] == valiset_Y[i]):\n",
    "        correct += 1\n",
    "    return correct / len(valiset_Y)\n",
    "  \n",
    "  def train(self, trainset, X_val, Y_val, iters, alpha, batch_size):\n",
    "    \n",
    "    for iter in range(iters):\n",
    "      print(\"Iteration: \" + str(iter))\n",
    "      random.shuffle(trainset)\n",
    "      X_train = [item[0].tolist() for item in trainset]\n",
    "      Y_train = [item[1] for item in trainset]\n",
    "      l = 0\n",
    "      for i in range(0, len(X_train)-1, batch_size):\n",
    "        X_train_mini = np.transpose(X_train[i : i + batch_size])\n",
    "        Y_train_mini = np.transpose(Y_train[i : i + batch_size])\n",
    "        Z = self.forward(X_train_mini)\n",
    "        loss = self.costFunction(Z,Y_train_mini)\n",
    "        dL_dZ = self.backPropagation(Y_train_mini)\n",
    "        for layer in range(self.num_layers, 0, -1):\n",
    "          dL_dA = self.affineBackward(dL_dZ,layer, alpha)\n",
    "          if layer > 1:\n",
    "            dL_dZ = self.activationBackward(dL_dA, layer)\n",
    "        l = loss\n",
    "      train_accuracy = self.validate(trainset_X.transpose(), trainset_Y)\n",
    "      validate_accuracy = self.validate(valiset_X.transpose(), valiset_Y)\n",
    "      \n",
    "        \n",
    "      print(\"training loss is \", l)\n",
    "      print(\"training accuracy is \", train_accuracy)\n",
    "      print(\"validation accuracy is \", validate_accuracy)\n",
    "      print(\" \")\n",
    "        \n",
    "def imshow(img):\n",
    "    img = img / 2 + 0.5 # unnormalize\n",
    "    npimg = img.numpy()\n",
    "    plt.imshow(np.transpose(npimg, (1, 2, 0)))\n",
    "    \n",
    "if __name__ == \"__main__\":\n",
    "    layer_dimensions = [3072, 600, 500, 10]\n",
    "    nn = NeuralNetwork(layer_dimensions)\n",
    "    #nn.train(training_set, [], [], 15, 0.01, 50)\n",
    "    with open(b\"model.obj\",\"rb\") as f:\n",
    "        model = pickle.load(f)\n",
    "        label = [\"plane\", \"car\",\" bird\", \"cat\", \"deer\", \"dog\", \"frog\", \"horse\", \"ship\", \"truck\"]\n",
    "        Y_predict = model.predict(np.asarray(test_X).transpose())\n",
    "        index = 900\n",
    "        imshow(testset[index][0])\n",
    "        print(\"The label is \", label[Y_predict[index]])"
   ]
  },
  {
   "cell_type": "code",
   "execution_count": 68,
   "metadata": {
    "colab": {
     "base_uri": "https://localhost:8080/",
     "height": 1292
    },
    "colab_type": "code",
    "id": "EtTKFOi5g1IJ",
    "outputId": "46dfbde1-3a15-424b-d35f-94c20a0a450b"
   },
   "outputs": [
    {
     "name": "stdout",
     "output_type": "stream",
     "text": [
      "The label is  deer\n"
     ]
    },
    {
     "data": {
      "image/png": "[encoded data removed]",
      "text/plain": [
       "<Figure size 432x288 with 1 Axes>"
      ]
     },
     "metadata": {
      "needs_background": "light"
     },
     "output_type": "display_data"
    }
   ],
   "source": [
    "        "
   ]
  },
  {
   "cell_type": "code",
   "execution_count": 67,
   "metadata": {
    "colab": {
     "base_uri": "https://localhost:8080/",
     "height": 1292
    },
    "colab_type": "code",
    "id": "EtTKFOi5g1IJ",
    "outputId": "46dfbde1-3a15-424b-d35f-94c20a0a450b"
   },
   "outputs": [
    {
     "name": "stdout",
     "output_type": "stream",
     "text": [
      "The label is  horse\n"
     ]
    },
    {
     "data": {
      "image/png": "[encoded data removed]",
      "text/plain": [
       "<Figure size 432x288 with 1 Axes>"
      ]
     },
     "metadata": {
      "needs_background": "light"
     },
     "output_type": "display_data"
    }
   ],
   "source": []
  },
  {
   "cell_type": "code",
   "execution_count": 66,
   "metadata": {
    "colab": {
     "base_uri": "https://localhost:8080/",
     "height": 1292
    },
    "colab_type": "code",
    "id": "EtTKFOi5g1IJ",
    "outputId": "46dfbde1-3a15-424b-d35f-94c20a0a450b"
   },
   "outputs": [
    {
     "name": "stdout",
     "output_type": "stream",
     "text": [
      "The label is  truck\n"
     ]
    },
    {
     "data": {
      "image/png": "[encoded data removed]",
      "text/plain": [
       "<Figure size 432x288 with 1 Axes>"
      ]
     },
     "metadata": {
      "needs_background": "light"
     },
     "output_type": "display_data"
    }
   ],
   "source": [
    "        "
   ]
  },
  {
   "cell_type": "code",
   "execution_count": 65,
   "metadata": {
    "colab": {
     "base_uri": "https://localhost:8080/",
     "height": 1292
    },
    "colab_type": "code",
    "id": "EtTKFOi5g1IJ",
    "outputId": "46dfbde1-3a15-424b-d35f-94c20a0a450b"
   },
   "outputs": [
    {
     "name": "stdout",
     "output_type": "stream",
     "text": [
      "The label is  frog\n"
     ]
    },
    {
     "data": {
      "image/png": "[encoded data removed]",
      "text/plain": [
       "<Figure size 432x288 with 1 Axes>"
      ]
     },
     "metadata": {
      "needs_background": "light"
     },
     "output_type": "display_data"
    }
   ],
   "source": [
    "        "
   ]
  },
  {
   "cell_type": "code",
   "execution_count": 64,
   "metadata": {
    "colab": {
     "base_uri": "https://localhost:8080/",
     "height": 1292
    },
    "colab_type": "code",
    "id": "EtTKFOi5g1IJ",
    "outputId": "46dfbde1-3a15-424b-d35f-94c20a0a450b"
   },
   "outputs": [
    {
     "name": "stdout",
     "output_type": "stream",
     "text": [
      "The label is  car\n"
     ]
    },
    {
     "data": {
      "image/png": "[encoded data removed]",
      "text/plain": [
       "<Figure size 432x288 with 1 Axes>"
      ]
     },
     "metadata": {
      "needs_background": "light"
     },
     "output_type": "display_data"
    }
   ],
   "source": [
    "        "
   ]
  },
  {
   "cell_type": "code",
   "execution_count": 60,
   "metadata": {
    "colab": {
     "base_uri": "https://localhost:8080/",
     "height": 1292
    },
    "colab_type": "code",
    "id": "EtTKFOi5g1IJ",
    "outputId": "46dfbde1-3a15-424b-d35f-94c20a0a450b"
   },
   "outputs": [
    {
     "name": "stdout",
     "output_type": "stream",
     "text": [
      "The label is  plane\n"
     ]
    },
    {
     "data": {
      "image/png": "[encoded data removed]",
      "text/plain": [
       "<Figure size 432x288 with 1 Axes>"
      ]
     },
     "metadata": {
      "needs_background": "light"
     },
     "output_type": "display_data"
    }
   ],
   "source": [
    "    "
   ]
  },
  {
   "cell_type": "code",
   "execution_count": 55,
   "metadata": {
    "colab": {
     "base_uri": "https://localhost:8080/",
     "height": 1292
    },
    "colab_type": "code",
    "id": "EtTKFOi5g1IJ",
    "outputId": "46dfbde1-3a15-424b-d35f-94c20a0a450b"
   },
   "outputs": [
    {
     "name": "stdout",
     "output_type": "stream",
     "text": [
      "The label is  plane\n"
     ]
    },
    {
     "data": {
      "image/png": "[encoded data removed]",
      "text/plain": [
       "<Figure size 432x288 with 1 Axes>"
      ]
     },
     "metadata": {
      "needs_background": "light"
     },
     "output_type": "display_data"
    }
   ],
   "source": [
    "    "
   ]
  },
  {
   "cell_type": "code",
   "execution_count": 24,
   "metadata": {
    "scrolled": true
   },
   "outputs": [
    {
     "ename": "SyntaxError",
     "evalue": "invalid syntax (<ipython-input-24-658a9479dde0>, line 2)",
     "output_type": "error",
     "traceback": [
      "\u001b[0;36m  File \u001b[0;32m\"<ipython-input-24-658a9479dde0>\"\u001b[0;36m, line \u001b[0;32m2\u001b[0m\n\u001b[0;31m    training loss is  1.7764639465987546\u001b[0m\n\u001b[0m                ^\u001b[0m\n\u001b[0;31mSyntaxError\u001b[0m\u001b[0;31m:\u001b[0m invalid syntax\n"
     ]
    }
   ],
   "source": [
    "Iteration: 0\n",
    "training loss is  1.7764639465987546\n",
    "training accuracy is  0.40275555555555553\n",
    "validation accuracy is  0.3888\n",
    " \n",
    "Iteration: 1\n",
    "training loss is  1.747398341337623\n",
    "training accuracy is  0.4446\n",
    "validation accuracy is  0.4332\n",
    " \n",
    "Iteration: 2\n",
    "training loss is  1.6867776195266115\n",
    "training accuracy is  0.4696\n",
    "validation accuracy is  0.4464\n",
    " \n",
    "Iteration: 3\n",
    "training loss is  1.3833475200976517\n",
    "training accuracy is  0.4975777777777778\n",
    "validation accuracy is  0.467\n",
    " \n",
    "Iteration: 4\n",
    "training loss is  1.3868560710314843\n",
    "training accuracy is  0.5142222222222222\n",
    "validation accuracy is  0.4802\n",
    " \n",
    "Iteration: 5\n",
    "training loss is  1.3291142033425338\n",
    "training accuracy is  0.5268666666666667\n",
    "validation accuracy is  0.4924\n",
    " \n",
    "Iteration: 6\n",
    "training loss is  1.281938767161841\n",
    "training accuracy is  0.5373555555555556\n",
    "validation accuracy is  0.4852\n",
    " \n",
    "Iteration: 7\n",
    "training loss is  1.500319052193226\n",
    "training accuracy is  0.5626666666666666\n",
    "validation accuracy is  0.5008\n",
    " \n",
    "Iteration: 8\n",
    "training loss is  1.1904887867307246\n",
    "training accuracy is  0.5728888888888889\n",
    "validation accuracy is  0.5064\n",
    " \n",
    "Iteration: 9\n",
    "training loss is  1.5766854566462172\n",
    "training accuracy is  0.5815555555555556\n",
    "validation accuracy is  0.5118\n",
    " \n",
    "Iteration: 10\n",
    "training loss is  1.360174404643718\n",
    "training accuracy is  0.6003111111111111\n",
    "validation accuracy is  0.5176\n",
    " \n",
    "Iteration: 11\n",
    "training loss is  1.279970640307238\n",
    "training accuracy is  0.6043111111111111\n",
    "validation accuracy is  0.5174\n",
    " \n",
    "Iteration: 12\n",
    "training loss is  1.1442031490033984\n",
    "training accuracy is  0.629\n",
    "validation accuracy is  0.529\n",
    " \n",
    "Iteration: 13\n",
    "training loss is  1.1652994774786445\n",
    "training accuracy is  0.6316\n",
    "validation accuracy is  0.5292\n",
    " \n",
    "Iteration: 14\n",
    "training loss is  0.9718383981359372\n",
    "training accuracy is  0.6466444444444445\n",
    "validation accuracy is  0.531"
   ]
  },
  {
   "cell_type": "code",
   "execution_count": null,
   "metadata": {},
   "outputs": [],
   "source": []
  },
  {
   "cell_type": "code",
   "execution_count": 0,
   "metadata": {
    "colab": {},
    "colab_type": "code",
    "id": "DagMSSwoIZ5B"
   },
   "outputs": [],
   "source": [
    "# This part uses Google Colab and the link is:\n",
    "# https://colab.research.google.com/drive/1NSgEyUrCFoxeN6BUZT7RZws6gJW1957p\n",
    "\n",
    "import numpy as np\n",
    "import torch\n",
    "import torch.nn as nn\n",
    "import torch.nn.functional as F\n",
    "import torch.optim as optim\n",
    "import torchvision\n",
    "import torchvision.transforms as transforms"
   ]
  },
  {
   "cell_type": "code",
   "execution_count": 3,
   "metadata": {
    "colab": {
     "base_uri": "https://localhost:8080/",
     "height": 51
    },
    "colab_type": "code",
    "id": "ZM4A1Qb7cTjG",
    "outputId": "28263daa-8759-4b62-b5cd-8e6286fd0ab0"
   },
   "outputs": [
    {
     "name": "stdout",
     "output_type": "stream",
     "text": [
      "Downloading https://www.cs.toronto.edu/~kriz/cifar-10-python.tar.gz to ./data/cifar-10-python.tar.gz\n",
      "Files already downloaded and verified\n"
     ]
    }
   ],
   "source": [
    "transform = torchvision.transforms.Compose(\n",
    "    [torchvision.transforms.ToTensor(),\n",
    "     torchvision.transforms.Normalize((0.5,0.5,0.5), (0.5,0.5,0.5))])\n",
    "\n",
    "testset = torchvision.datasets.CIFAR10(root='./data', train=False,download=True, transform=transform)\n",
    "trainvalset = torchvision.datasets.CIFAR10(root='./data', train=True,download=True, transform=transform)\n",
    "trainset, valset = torch.utils.data.random_split(trainvalset, [45000, 5000]) # 10% for validation\n",
    "small_testset, big_testset = torch.utils.data.random_split(testset, [5, 9995]) # 10 random images for image showing and prediction\n",
    "\n",
    "trainloader = torch.utils.data.DataLoader(trainset, batch_size=50, shuffle=True)\n",
    "testloader = torch.utils.data.DataLoader(testset, batch_size=1000, shuffle=False)\n",
    "valloader = torch.utils.data.DataLoader(valset, batch_size=1000, shuffle=False)\n",
    "small_testloader = torch.utils.data.DataLoader(small_testset, batch_size=5, shuffle=False)"
   ]
  },
  {
   "cell_type": "code",
   "execution_count": 0,
   "metadata": {
    "colab": {},
    "colab_type": "code",
    "id": "8dz-2ChrPW36"
   },
   "outputs": [],
   "source": [
    "# Default Model\n",
    "class CNNModel(nn.Module):\n",
    "  def __init__(self):\n",
    "      super(CNNModel, self).__init__()\n",
    "      # input is 2*32*32\n",
    "      # padding=2\n",
    "      self.conv1 = nn.Conv2d(3,96,6, padding = 4)\n",
    "      self.norm1 = nn.BatchNorm2d(96)\n",
    "      self.conv2 = nn.Conv2d(96,192,6, padding = 4)\n",
    "      self.norm2 = nn.BatchNorm2d(192)\n",
    "      self.fc1 = nn.Linear(192*10*10,2048)\n",
    "      self.fc2 = nn.Linear(2048,10)\n",
    "    \n",
    "  def forward(self, x):\n",
    "      x = F.max_pool2d(self.norm1(F.relu(self.conv1(x))),2)\n",
    "      x = F.max_pool2d(self.norm2(F.relu(self.conv2(x))),2)\n",
    "      x = x.view(-1, 192*10*10)\n",
    "      x = F.relu(self.fc1(x))\n",
    "      x = self.fc2(x)\n",
    "      return F.log_softmax(x,dim=0)"
   ]
  },
  {
   "cell_type": "code",
   "execution_count": 5,
   "metadata": {
    "colab": {
     "base_uri": "https://localhost:8080/",
     "height": 153
    },
    "colab_type": "code",
    "id": "dn-jSu_CdPmE",
    "outputId": "8d3a1eab-0198-40db-f898-807536dd5a77"
   },
   "outputs": [
    {
     "name": "stdout",
     "output_type": "stream",
     "text": [
      "CNNModel(\n",
      "  (conv1): Conv2d(3, 96, kernel_size=(6, 6), stride=(1, 1), padding=(4, 4))\n",
      "  (norm1): BatchNorm2d(96, eps=1e-05, momentum=0.1, affine=True, track_running_stats=True)\n",
      "  (conv2): Conv2d(96, 192, kernel_size=(6, 6), stride=(1, 1), padding=(4, 4))\n",
      "  (norm2): BatchNorm2d(192, eps=1e-05, momentum=0.1, affine=True, track_running_stats=True)\n",
      "  (fc1): Linear(in_features=19200, out_features=2048, bias=True)\n",
      "  (fc2): Linear(in_features=2048, out_features=10, bias=True)\n",
      ")\n"
     ]
    }
   ],
   "source": [
    "model = CNNModel()\n",
    "print(model)\n",
    "\n",
    "optimizer = optim.SGD(model.parameters(), lr=0.01, momentum=0.9)"
   ]
  },
  {
   "cell_type": "code",
   "execution_count": 6,
   "metadata": {
    "colab": {
     "base_uri": "https://localhost:8080/",
     "height": 255
    },
    "colab_type": "code",
    "id": "zqP-6iegqCW2",
    "outputId": "2217882b-30ed-4a75-f2b4-2386b4884b76"
   },
   "outputs": [
    {
     "name": "stdout",
     "output_type": "stream",
     "text": [
      "Train Step: 0\tLoss: 3.931\tAccuracy: 6.000\n",
      "Train Step: 1000\tLoss: 2.571\tAccuracy: 70.000\n",
      "Train Step: 2000\tLoss: 2.161\tAccuracy: 90.000\n",
      "Train Step: 3000\tLoss: 2.135\tAccuracy: 82.000\n",
      "Train Step: 4000\tLoss: 1.996\tAccuracy: 96.000\n",
      "Train Step: 5000\tLoss: 1.936\tAccuracy: 98.000\n",
      "Train Step: 6000\tLoss: 2.046\tAccuracy: 90.000\n",
      "Train Step: 7000\tLoss: 1.911\tAccuracy: 98.000\n",
      "Train Step: 8000\tLoss: 1.843\tAccuracy: 98.000\n",
      "Train Step: 9000\tLoss: 1.981\tAccuracy: 92.000\n",
      "Train Step: 10000\tLoss: 1.829\tAccuracy: 98.000\n",
      "Train Step: 11000\tLoss: 1.806\tAccuracy: 98.000\n",
      "Train Step: 12000\tLoss: 1.714\tAccuracy: 100.000\n",
      "Train Step: 13000\tLoss: 1.799\tAccuracy: 100.000\n"
     ]
    }
   ],
   "source": [
    "batch_size = 50\n",
    "model.cuda()\n",
    "model.train()\n",
    "train_loss, train_accu = [], []\n",
    "i = 0\n",
    "for epoch in range(15):\n",
    "    for images, labels in trainloader:\n",
    "        # send tensors to GPU\n",
    "        images, labels = images.cuda(), labels.cuda()\n",
    "        \n",
    "        optimizer.zero_grad()               \n",
    "        outputs = model(images)             \n",
    "        loss = F.nll_loss(outputs, labels)  \n",
    "        loss.backward()                     \n",
    "        train_loss.append(loss.item())\n",
    "        optimizer.step()                    \n",
    "        predictions = outputs.data.max(1)[1]  \n",
    "        accuracy = np.sum(predictions.cpu().numpy()==labels.cpu().numpy())/batch_size*100\n",
    "        train_accu.append(accuracy)\n",
    "        if i % 1000 == 0:\n",
    "            print('Train Step: {}\\tLoss: {:.3f}\\tAccuracy: {:.3f}'.format(i, loss.item(), accuracy))\n",
    "        i += 1\n"
   ]
  },
  {
   "cell_type": "code",
   "execution_count": 7,
   "metadata": {
    "colab": {
     "base_uri": "https://localhost:8080/",
     "height": 34
    },
    "colab_type": "code",
    "id": "ULLPVTXy2yp1",
    "outputId": "0b4d8694-9610-4ea0-a77f-997f44424b87"
   },
   "outputs": [
    {
     "name": "stdout",
     "output_type": "stream",
     "text": [
      "Validation set accuracy: 79.00%\n"
     ]
    }
   ],
   "source": [
    "# Prediction on Validation Set\n",
    "model.eval()\n",
    "correct = 0\n",
    "for images, labels in valloader:\n",
    "    with torch.no_grad(): # so that computation graph history is not stored\n",
    "        images, labels = images.cuda(), labels.cuda() # send tensors to GPU\n",
    "        outputs = model(images)\n",
    "        predictions = outputs.data.max(1)[1]\n",
    "        correct += predictions.eq(labels.data).sum()\n",
    "        \n",
    "print('Validation set accuracy: {:.2f}%'.format(100.0 * correct / len(valloader.dataset)))"
   ]
  },
  {
   "cell_type": "code",
   "execution_count": 0,
   "metadata": {
    "colab": {},
    "colab_type": "code",
    "id": "sddSm17_WT9J"
   },
   "outputs": [],
   "source": [
    "# Modified Version 1. Add one more convolution layer. Add drop out. Change the activation function\n",
    "class ModelV1(nn.Module):\n",
    "  def __init__(self):\n",
    "      super(ModelV1, self).__init__()\n",
    "      # input is 2*32*32\n",
    "      # padding=2\n",
    "      self.conv1 = nn.Conv2d(3,96,6, padding = 4)\n",
    "      self.norm1 = nn.BatchNorm2d(96)\n",
    "      self.conv2 = nn.Conv2d(96,192,6, padding = 4)\n",
    "      self.norm2 = nn.BatchNorm2d(192)\n",
    "      self.conv3 = nn.Conv2d(192,384,6, padding = 4)\n",
    "      self.norm3 = nn.BatchNorm2d(384)\n",
    "      self.fc1 = nn.Linear(384*6*6,2048)\n",
    "      self.fc2 = nn.Linear(2048,10)\n",
    "    \n",
    "  def forward(self, x):\n",
    "      x = F.max_pool2d(self.norm1(F.relu(self.conv1(x))),2)\n",
    "      x = F.max_pool2d(self.norm2(torch.sigmoid(self.conv2(x))),2)\n",
    "      x = F.max_pool2d(self.norm3(F.hardtanh(self.conv3(x))),2)\n",
    "      x = x.view(-1, 384*6*6)\n",
    "      x = F.relu(self.fc1(x))\n",
    "      x = F.dropout(x, training=self.training) # default p=0.5\n",
    "      x = self.fc2(x)\n",
    "      return F.log_softmax(x,dim=0)"
   ]
  },
  {
   "cell_type": "code",
   "execution_count": 10,
   "metadata": {
    "colab": {
     "base_uri": "https://localhost:8080/",
     "height": 187
    },
    "colab_type": "code",
    "id": "XBLPiUQ7XXk-",
    "outputId": "2957dfd7-c4da-4ff4-ad13-6dd49372a6a9"
   },
   "outputs": [
    {
     "name": "stdout",
     "output_type": "stream",
     "text": [
      "ModelV1(\n",
      "  (conv1): Conv2d(3, 96, kernel_size=(6, 6), stride=(1, 1), padding=(4, 4))\n",
      "  (norm1): BatchNorm2d(96, eps=1e-05, momentum=0.1, affine=True, track_running_stats=True)\n",
      "  (conv2): Conv2d(96, 192, kernel_size=(6, 6), stride=(1, 1), padding=(4, 4))\n",
      "  (norm2): BatchNorm2d(192, eps=1e-05, momentum=0.1, affine=True, track_running_stats=True)\n",
      "  (conv3): Conv2d(192, 384, kernel_size=(6, 6), stride=(1, 1), padding=(4, 4))\n",
      "  (norm3): BatchNorm2d(384, eps=1e-05, momentum=0.1, affine=True, track_running_stats=True)\n",
      "  (fc1): Linear(in_features=13824, out_features=2048, bias=True)\n",
      "  (fc2): Linear(in_features=2048, out_features=10, bias=True)\n",
      ")\n"
     ]
    }
   ],
   "source": [
    "model1 = ModelV1()\n",
    "print(model1)\n",
    "\n",
    "optimizer = optim.SGD(model1.parameters(), lr=0.01, momentum=0.9)"
   ]
  },
  {
   "cell_type": "code",
   "execution_count": 11,
   "metadata": {
    "colab": {
     "base_uri": "https://localhost:8080/",
     "height": 255
    },
    "colab_type": "code",
    "id": "5UnUsBjWXcIi",
    "outputId": "1b34c258-0621-4639-bb6c-5ff5ed7b1f2f"
   },
   "outputs": [
    {
     "name": "stdout",
     "output_type": "stream",
     "text": [
      "Train Step: 0\tLoss: 3.980\tAccuracy: 8.000\n",
      "Train Step: 1000\tLoss: 3.030\tAccuracy: 52.000\n",
      "Train Step: 2000\tLoss: 2.718\tAccuracy: 70.000\n",
      "Train Step: 3000\tLoss: 2.379\tAccuracy: 80.000\n",
      "Train Step: 4000\tLoss: 2.281\tAccuracy: 78.000\n",
      "Train Step: 5000\tLoss: 2.113\tAccuracy: 86.000\n",
      "Train Step: 6000\tLoss: 2.182\tAccuracy: 86.000\n",
      "Train Step: 7000\tLoss: 2.141\tAccuracy: 84.000\n",
      "Train Step: 8000\tLoss: 2.210\tAccuracy: 76.000\n",
      "Train Step: 9000\tLoss: 1.930\tAccuracy: 90.000\n",
      "Train Step: 10000\tLoss: 1.839\tAccuracy: 100.000\n",
      "Train Step: 11000\tLoss: 1.858\tAccuracy: 100.000\n",
      "Train Step: 12000\tLoss: 1.844\tAccuracy: 100.000\n",
      "Train Step: 13000\tLoss: 1.733\tAccuracy: 100.000\n"
     ]
    }
   ],
   "source": [
    "batch_size = 50\n",
    "model1.cuda()\n",
    "model1.train()\n",
    "train_loss, train_accu = [], []\n",
    "i = 0\n",
    "for epoch in range(15):\n",
    "    for images, labels in trainloader:\n",
    "        # send tensors to GPU\n",
    "        images, labels = images.cuda(), labels.cuda()\n",
    "        \n",
    "        optimizer.zero_grad()               # zero the parameter gradients\n",
    "        outputs = model1(images)             # calls the forward function of model, i.e. model.forward(images)\n",
    "        loss = F.nll_loss(outputs, labels)  # calculate loss\n",
    "        loss.backward()                     # calculate gradients\n",
    "        train_loss.append(loss.item())\n",
    "        optimizer.step()                    # update learnable parameters\n",
    "        predictions = outputs.data.max(1)[1]# column at idx 1 has actual prob.  \n",
    "        \n",
    "        # send tensors back to CPU because numpy ops don't support GPU.\n",
    "        accuracy = np.sum(predictions.cpu().numpy()==labels.cpu().numpy())/batch_size*100\n",
    "        train_accu.append(accuracy)\n",
    "        if i % 1000 == 0:\n",
    "            print('Train Step: {}\\tLoss: {:.3f}\\tAccuracy: {:.3f}'.format(i, loss.item(), accuracy))\n",
    "        i += 1"
   ]
  },
  {
   "cell_type": "code",
   "execution_count": 13,
   "metadata": {
    "colab": {
     "base_uri": "https://localhost:8080/",
     "height": 34
    },
    "colab_type": "code",
    "id": "YlhPCr87Xk1E",
    "outputId": "3c7e6b06-bb22-4985-9b5a-203696ef9b0f"
   },
   "outputs": [
    {
     "name": "stdout",
     "output_type": "stream",
     "text": [
      "Validation set accuracy: 80.00%\n"
     ]
    }
   ],
   "source": [
    "model1.eval()\n",
    "correct = 0\n",
    "i = 0\n",
    "for images, labels in valloader:\n",
    "    with torch.no_grad(): # so that computation graph history is not stored\n",
    "        images, labels = images.cuda(), labels.cuda() # send tensors to GPU\n",
    "        outputs = model1(images)\n",
    "        predictions = outputs.data.max(1)[1]\n",
    "        correct += predictions.eq(labels.data).sum()\n",
    "        \n",
    "print('Validation set accuracy: {:.2f}%'.format(100.0 * correct / len(valloader.dataset)))"
   ]
  },
  {
   "cell_type": "code",
   "execution_count": 26,
   "metadata": {
    "colab": {
     "base_uri": "https://localhost:8080/",
     "height": 187
    },
    "colab_type": "code",
    "id": "xUr0l0Ywc0vr",
    "outputId": "d9ba9874-bdb3-45a7-b327-68c0f5f99cf4"
   },
   "outputs": [
    {
     "name": "stdout",
     "output_type": "stream",
     "text": [
      "ModelV1(\n",
      "  (conv1): Conv2d(3, 96, kernel_size=(6, 6), stride=(1, 1), padding=(4, 4))\n",
      "  (norm1): BatchNorm2d(96, eps=1e-05, momentum=0.1, affine=True, track_running_stats=True)\n",
      "  (conv2): Conv2d(96, 192, kernel_size=(6, 6), stride=(1, 1), padding=(4, 4))\n",
      "  (norm2): BatchNorm2d(192, eps=1e-05, momentum=0.1, affine=True, track_running_stats=True)\n",
      "  (conv3): Conv2d(192, 384, kernel_size=(6, 6), stride=(1, 1), padding=(4, 4))\n",
      "  (norm3): BatchNorm2d(384, eps=1e-05, momentum=0.1, affine=True, track_running_stats=True)\n",
      "  (fc1): Linear(in_features=13824, out_features=2048, bias=True)\n",
      "  (fc2): Linear(in_features=2048, out_features=10, bias=True)\n",
      ")\n"
     ]
    }
   ],
   "source": [
    "# Modified Version 2. Use a different optimizer: ASGD\n",
    "model2 = ModelV1()\n",
    "print(model2)\n",
    "\n",
    "optimizer2 = optim.ASGD(model2.parameters(), lr=0.01)"
   ]
  },
  {
   "cell_type": "code",
   "execution_count": 27,
   "metadata": {
    "colab": {
     "base_uri": "https://localhost:8080/",
     "height": 255
    },
    "colab_type": "code",
    "id": "1cj77oiJnVFA",
    "outputId": "3184ad95-8dae-4c50-c1cb-0e758181c3e9"
   },
   "outputs": [
    {
     "name": "stdout",
     "output_type": "stream",
     "text": [
      "Train Step: 0\tLoss: 3.878\tAccuracy: 14.000\n",
      "Train Step: 1000\tLoss: 2.668\tAccuracy: 60.000\n",
      "Train Step: 2000\tLoss: 2.500\tAccuracy: 72.000\n",
      "Train Step: 3000\tLoss: 2.826\tAccuracy: 58.000\n",
      "Train Step: 4000\tLoss: 2.647\tAccuracy: 68.000\n",
      "Train Step: 5000\tLoss: 2.453\tAccuracy: 72.000\n",
      "Train Step: 6000\tLoss: 2.281\tAccuracy: 80.000\n",
      "Train Step: 7000\tLoss: 2.261\tAccuracy: 78.000\n",
      "Train Step: 8000\tLoss: 2.418\tAccuracy: 68.000\n",
      "Train Step: 9000\tLoss: 2.052\tAccuracy: 92.000\n",
      "Train Step: 10000\tLoss: 2.118\tAccuracy: 84.000\n",
      "Train Step: 11000\tLoss: 2.238\tAccuracy: 80.000\n",
      "Train Step: 12000\tLoss: 1.956\tAccuracy: 96.000\n",
      "Train Step: 13000\tLoss: 1.962\tAccuracy: 94.000\n"
     ]
    }
   ],
   "source": [
    "batch_size = 50\n",
    "model2.cuda()\n",
    "model2.train()\n",
    "train_loss, train_accu = [], []\n",
    "i = 0\n",
    "for epoch in range(15):\n",
    "    for images, labels in trainloader:\n",
    "        # send tensors to GPU\n",
    "        images, labels = images.cuda(), labels.cuda()\n",
    "        \n",
    "        optimizer2.zero_grad()               # zero the parameter gradients\n",
    "        outputs = model2(images)             # calls the forward function of model, i.e. model.forward(images)\n",
    "        loss = F.nll_loss(outputs, labels)  # calculate loss\n",
    "        loss.backward()                     # calculate gradients\n",
    "        train_loss.append(loss.item())\n",
    "        optimizer2.step()                    # update learnable parameters\n",
    "        predictions = outputs.data.max(1)[1]# column at idx 1 has actual prob.  \n",
    "        \n",
    "        # send tensors back to CPU because numpy ops don't support GPU.\n",
    "        accuracy = np.sum(predictions.cpu().numpy()==labels.cpu().numpy())/batch_size*100\n",
    "        train_accu.append(accuracy)\n",
    "        if i % 1000 == 0:\n",
    "            print('Train Step: {}\\tLoss: {:.3f}\\tAccuracy: {:.3f}'.format(i, loss.item(), accuracy))\n",
    "        i += 1"
   ]
  },
  {
   "cell_type": "code",
   "execution_count": 28,
   "metadata": {
    "colab": {
     "base_uri": "https://localhost:8080/",
     "height": 34
    },
    "colab_type": "code",
    "id": "prsCa58ClkIQ",
    "outputId": "35b3fd33-e3b6-4087-e21f-31d542573416"
   },
   "outputs": [
    {
     "name": "stdout",
     "output_type": "stream",
     "text": [
      "Validation set accuracy: 78.00%\n"
     ]
    }
   ],
   "source": [
    "model2.eval()\n",
    "correct = 0\n",
    "i = 0\n",
    "for images, labels in valloader:\n",
    "    with torch.no_grad(): # so that computation graph history is not stored\n",
    "        images, labels = images.cuda(), labels.cuda() # send tensors to GPU\n",
    "        outputs = model2(images)\n",
    "        predictions = outputs.data.max(1)[1]\n",
    "        correct += predictions.eq(labels.data).sum()\n",
    "        i += 1\n",
    "        \n",
    "print('Validation set accuracy: {:.2f}%'.format(100.0 * correct / len(valloader.dataset)))"
   ]
  },
  {
   "cell_type": "code",
   "execution_count": 0,
   "metadata": {
    "colab": {},
    "colab_type": "code",
    "id": "DpWguMzOVxMx"
   },
   "outputs": [],
   "source": [
    "# Sample from test set. Print image and predict.\n",
    "import matplotlib.pyplot as plt\n",
    "real_labels = [\"plane\", \"car\", \"bird\", \"cat\", \"deer\", \"dog\", \"frog\", \"horse\", \"ship\", \"truck\"]\n",
    "def imshow(img):\n",
    "    img = img / 2 + 0.5 # unnormalize\n",
    "    npimg = img.numpy()\n",
    "    plt.imshow(np.transpose(npimg, (1, 2, 0)))\n",
    "\n",
    "predictions = []\n",
    "predictions1 = []\n",
    "predictions2 = []\n",
    "for images, labels in small_testloader:\n",
    "    with torch.no_grad():\n",
    "        images = images.cuda()\n",
    "        outputs = model(images)\n",
    "        predictions = outputs.data.max(1)[1]\n",
    "        outputs1 = model1(images)\n",
    "        predictions1 = outputs1.data.max(1)[1]\n",
    "        outputs2 = model2(images)\n",
    "        predictions2 = outputs2.data.max(1)[1]"
   ]
  },
  {
   "cell_type": "code",
   "execution_count": 30,
   "metadata": {
    "colab": {
     "base_uri": "https://localhost:8080/",
     "height": 398
    },
    "colab_type": "code",
    "id": "DuQUWDcgl9wU",
    "outputId": "15fe021c-95c7-46b0-c564-86ac77cb99f0"
   },
   "outputs": [
    {
     "name": "stdout",
     "output_type": "stream",
     "text": [
      "Default Model Predicted Label:  frog\n",
      "Model1 Predicted Label:  frog\n",
      "Model2 Predicted Label:  frog\n"
     ]
    },
    {
     "data": {
      "image/png": "[encoded data removed]",
      "text/plain": [
       "<Figure size 576x396 with 1 Axes>"
      ]
     },
     "metadata": {
      "tags": []
     },
     "output_type": "display_data"
    }
   ],
   "source": [
    "imshow(small_testset[0][0]) # displays test image number 0\n",
    "print(\"Default Model Predicted Label: \", real_labels[predictions[0].item()])\n",
    "print(\"Model1 Predicted Label: \", real_labels[predictions1[0].item()])\n",
    "print(\"Model2 Predicted Label: \", real_labels[predictions2[0].item()])"
   ]
  },
  {
   "cell_type": "code",
   "execution_count": 31,
   "metadata": {
    "colab": {
     "base_uri": "https://localhost:8080/",
     "height": 398
    },
    "colab_type": "code",
    "id": "BotIRWfud60v",
    "outputId": "ddf1431f-e6fc-47eb-9ad9-17bffe5c64bd"
   },
   "outputs": [
    {
     "name": "stdout",
     "output_type": "stream",
     "text": [
      "Default Model Predicted Label:  bird\n",
      "Model1 Predicted Label:  bird\n",
      "Model2 Predicted Label:  bird\n"
     ]
    },
    {
     "data": {
      "image/png": "[encoded data removed]",
      "text/plain": [
       "<Figure size 576x396 with 1 Axes>"
      ]
     },
     "metadata": {
      "tags": []
     },
     "output_type": "display_data"
    }
   ],
   "source": [
    "imshow(small_testset[1][0]) # displays test image number 0\n",
    "print(\"Default Model Predicted Label: \", real_labels[predictions[1].item()])\n",
    "print(\"Model1 Predicted Label: \", real_labels[predictions1[1].item()])\n",
    "print(\"Model2 Predicted Label: \", real_labels[predictions2[1].item()])"
   ]
  },
  {
   "cell_type": "code",
   "execution_count": 32,
   "metadata": {
    "colab": {
     "base_uri": "https://localhost:8080/",
     "height": 398
    },
    "colab_type": "code",
    "id": "1P6vsKffmU0q",
    "outputId": "579d69a3-dee8-40f5-fd34-94f931b02642"
   },
   "outputs": [
    {
     "name": "stdout",
     "output_type": "stream",
     "text": [
      "Default Model Predicted Label:  deer\n",
      "Model1 Predicted Label:  deer\n",
      "Model2 Predicted Label:  deer\n"
     ]
    },
    {
     "data": {
      "image/png": "[encoded data removed]",
      "text/plain": [
       "<Figure size 576x396 with 1 Axes>"
      ]
     },
     "metadata": {
      "tags": []
     },
     "output_type": "display_data"
    }
   ],
   "source": [
    "imshow(small_testset[2][0]) # displays test image number 0\n",
    "print(\"Default Model Predicted Label: \", real_labels[predictions[2].item()])\n",
    "print(\"Model1 Predicted Label: \", real_labels[predictions1[2].item()])\n",
    "print(\"Model2 Predicted Label: \", real_labels[predictions2[2].item()])"
   ]
  },
  {
   "cell_type": "code",
   "execution_count": 33,
   "metadata": {
    "colab": {
     "base_uri": "https://localhost:8080/",
     "height": 398
    },
    "colab_type": "code",
    "id": "h3b2ESLtmbKq",
    "outputId": "e5abbd6a-367d-486d-d68b-791108c2e60b"
   },
   "outputs": [
    {
     "name": "stdout",
     "output_type": "stream",
     "text": [
      "Default Model Predicted Label:  ship\n",
      "Model1 Predicted Label:  ship\n",
      "Model2 Predicted Label:  car\n"
     ]
    },
    {
     "data": {
      "image/png": "[encoded data removed]",
      "text/plain": [
       "<Figure size 576x396 with 1 Axes>"
      ]
     },
     "metadata": {
      "tags": []
     },
     "output_type": "display_data"
    }
   ],
   "source": [
    "imshow(small_testset[3][0]) # displays test image number 0\n",
    "print(\"Default Model Predicted Label: \", real_labels[predictions[3].item()])\n",
    "print(\"Model1 Predicted Label: \", real_labels[predictions1[3].item()])\n",
    "print(\"Model2 Predicted Label: \", real_labels[predictions2[3].item()])"
   ]
  },
  {
   "cell_type": "code",
   "execution_count": 34,
   "metadata": {
    "colab": {
     "base_uri": "https://localhost:8080/",
     "height": 398
    },
    "colab_type": "code",
    "id": "Sv_QaBjCmetD",
    "outputId": "fc67a1ee-1534-4fd6-b640-b84d62cf0af9"
   },
   "outputs": [
    {
     "name": "stdout",
     "output_type": "stream",
     "text": [
      "Default Model Predicted Label:  truck\n",
      "Model1 Predicted Label:  dog\n",
      "Model2 Predicted Label:  dog\n"
     ]
    },
    {
     "data": {
      "image/png": "[encoded data removed]",
      "text/plain": [
       "<Figure size 576x396 with 1 Axes>"
      ]
     },
     "metadata": {
      "tags": []
     },
     "output_type": "display_data"
    }
   ],
   "source": [
    "imshow(small_testset[4][0]) # displays test image number 0\n",
    "print(\"Default Model Predicted Label: \", real_labels[predictions[4].item()])\n",
    "print(\"Model1 Predicted Label: \", real_labels[predictions1[4].item()])\n",
    "print(\"Model2 Predicted Label: \", real_labels[predictions2[4].item()])"
   ]
  }
 ],
 "metadata": {
  "accelerator": "GPU",
  "colab": {
   "collapsed_sections": [],
   "name": "Copy of image_classification.ipynb",
   "provenance": [],
   "version": "0.3.2"
  },
  "kernelspec": {
   "display_name": "Python 3",
   "language": "python",
   "name": "python3"
  },
  "language_info": {
   "codemirror_mode": {
    "name": "ipython",
    "version": 3
   },
   "file_extension": ".py",
   "mimetype": "text/x-python",
   "name": "python",
   "nbconvert_exporter": "python",
   "pygments_lexer": "ipython3",
   "version": "3.7.1"
  }
 },
 "nbformat": 4,
 "nbformat_minor": 1
}
